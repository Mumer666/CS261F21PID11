{
 "cells": [
  {
   "cell_type": "code",
   "execution_count": 44,
   "id": "624deeaa",
   "metadata": {},
   "outputs": [],
   "source": [
    "from bs4 import BeautifulSoup\n",
    "import requests\n",
    "from csv import writer\n",
    "url =\"https://www.pararius.com/apartments/haarlem\"\n",
    "page = requests.get(url)\n",
    "soup = BeautifulSoup(page.content,'html.parser')\n",
    "lists = soup.find_all('section' , class_=\"listing-search-item listing-search-item--list listing-search-item--for-rent\")\n",
    "with open('course.csv','w',encoding='utf8', newline='')as f:\n",
    "    thewriter = writer(f)\n",
    "    header=[\"university\",\"name of Course\",\"lectures videos\",\"price of Course\",\"students enrolled\",\"name of professor\",\"duration of course\"]\n",
    "    thewriter.writerow(header)\n",
    "    for list in lists:\n",
    "        name = list.find('a' ,'listing-search-item__link listing-search-item__link--title').text\n",
    "        university = list.find('div' ,'listing-search-item__location').text.replace('\\n','')\n",
    "        price = list.find('div','listing-search-item__price').text.replace('\\n','')\n",
    "        lectures = list.find('li','illustrated-features__item illustrated-features__item--surface-area').text.replace('m²','lec videos')\n",
    "        duration = list.find('li','illustrated-features__item illustrated-features__item--number-of-rooms').text.replace('rooms','months')\n",
    "        students = list.find('li','illustrated-features__item illustrated-features__item--surface-area').text.replace(' ','').replace('m²','100')\n",
    "        professor = list.find('div' ,'listing-search-item__info').text.replace('\\n','')\n",
    "        info = [university,name,lectures,price,students,professor,duration]\n",
    "        thewriter.writerow(info)"
   ]
  },
  {
   "cell_type": "code",
   "execution_count": null,
   "id": "cd792519",
   "metadata": {},
   "outputs": [],
   "source": []
  }
 ],
 "metadata": {
  "kernelspec": {
   "display_name": "Python 3",
   "language": "python",
   "name": "python3"
  },
  "language_info": {
   "codemirror_mode": {
    "name": "ipython",
    "version": 3
   },
   "file_extension": ".py",
   "mimetype": "text/x-python",
   "name": "python",
   "nbconvert_exporter": "python",
   "pygments_lexer": "ipython3",
   "version": "3.8.8"
  }
 },
 "nbformat": 4,
 "nbformat_minor": 5
}
